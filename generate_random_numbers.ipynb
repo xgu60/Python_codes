{
 "cells": [
  {
   "cell_type": "code",
   "execution_count": 11,
   "metadata": {},
   "outputs": [],
   "source": [
    "#create a new function rand10 (random number from 1 to 10)\n",
    "#from rand5 (random number from 1 to 5)"
   ]
  },
  {
   "cell_type": "code",
   "execution_count": 12,
   "metadata": {},
   "outputs": [],
   "source": [
    "import random"
   ]
  },
  {
   "cell_type": "code",
   "execution_count": 13,
   "metadata": {},
   "outputs": [],
   "source": [
    "def rand5():\n",
    "    return random.randint(1, 5)"
   ]
  },
  {
   "cell_type": "code",
   "execution_count": 14,
   "metadata": {},
   "outputs": [],
   "source": [
    "def rand10():\n",
    "    while True:\n",
    "        x = rand5()\n",
    "        y = rand5()\n",
    "        z = (x - 1) * 5 + y\n",
    "        if z > 20:\n",
    "            continue\n",
    "        return (z + 1) // 2"
   ]
  },
  {
   "cell_type": "code",
   "execution_count": 16,
   "metadata": {},
   "outputs": [
    {
     "data": {
      "text/plain": [
       "Counter({5: 9870,\n",
       "         4: 10086,\n",
       "         8: 10043,\n",
       "         1: 10119,\n",
       "         9: 9943,\n",
       "         2: 9891,\n",
       "         7: 9926,\n",
       "         3: 10099,\n",
       "         10: 10010,\n",
       "         6: 10013})"
      ]
     },
     "execution_count": 16,
     "metadata": {},
     "output_type": "execute_result"
    }
   ],
   "source": [
    "from collections import Counter\n",
    "res = [rand10() for _ in range(100000)]\n",
    "cnt = Counter(res)\n",
    "cnt    "
   ]
  }
 ],
 "metadata": {
  "kernelspec": {
   "display_name": "Python 3",
   "language": "python",
   "name": "python3"
  },
  "language_info": {
   "codemirror_mode": {
    "name": "ipython",
    "version": 3
   },
   "file_extension": ".py",
   "mimetype": "text/x-python",
   "name": "python",
   "nbconvert_exporter": "python",
   "pygments_lexer": "ipython3",
   "version": "3.6.6"
  }
 },
 "nbformat": 4,
 "nbformat_minor": 2
}
